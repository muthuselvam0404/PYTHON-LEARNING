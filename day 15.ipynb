{
 "cells": [
  {
   "cell_type": "markdown",
   "id": "7f98bbb4",
   "metadata": {},
   "source": [
    "# Python Math :\n",
    "\n",
    "Python has a set of built-in math functions, including an extensive math module, that allows you to perform mathematical tasks on numbers.\n"
   ]
  },
  {
   "cell_type": "raw",
   "id": "aba5b2bd",
   "metadata": {},
   "source": [
    "Built-in Math Functions : \n",
    "\n",
    "The min() and max() functions can be used to find the lowest or highest value in an iterable:"
   ]
  },
  {
   "cell_type": "code",
   "execution_count": 1,
   "id": "728ac5d9",
   "metadata": {},
   "outputs": [
    {
     "name": "stdout",
     "output_type": "stream",
     "text": [
      "5\n",
      "25\n"
     ]
    }
   ],
   "source": [
    "x = min(5, 10, 25)\n",
    "y = max(5, 10, 25)\n",
    "\n",
    "print(x)\n",
    "print(y)"
   ]
  },
  {
   "cell_type": "code",
   "execution_count": 2,
   "id": "b51b93f3",
   "metadata": {},
   "outputs": [
    {
     "name": "stdout",
     "output_type": "stream",
     "text": [
      "7.25\n"
     ]
    }
   ],
   "source": [
    "# The abs() function returns the absolute (positive) value of the specified number:\n",
    "\n",
    "x = abs(-7.25)\n",
    "\n",
    "print(x)\n"
   ]
  },
  {
   "cell_type": "code",
   "execution_count": 3,
   "id": "da9322a8",
   "metadata": {},
   "outputs": [
    {
     "name": "stdout",
     "output_type": "stream",
     "text": [
      "64\n"
     ]
    }
   ],
   "source": [
    "# The pow(x, y) function returns the value of x to the power of y (xy).\n",
    "\n",
    "x = pow(4, 3)\n",
    "\n",
    "print(x)\n"
   ]
  },
  {
   "cell_type": "markdown",
   "id": "04142f60",
   "metadata": {},
   "source": [
    "# The Math Module\n",
    "Python has also a built-in module called math, which extends the list of mathematical functions.\n",
    "\n",
    "To use it, you must import the math module:"
   ]
  },
  {
   "cell_type": "code",
   "execution_count": 2,
   "id": "760678dd",
   "metadata": {},
   "outputs": [
    {
     "name": "stdout",
     "output_type": "stream",
     "text": [
      "8.0\n"
     ]
    }
   ],
   "source": [
    "# The math.sqrt() method for example, returns the square root of a number:\n",
    "\n",
    "import math\n",
    "\n",
    "x = math.sqrt(64)\n",
    "\n",
    "print(x)"
   ]
  },
  {
   "cell_type": "code",
   "execution_count": 5,
   "id": "d7e8ce53",
   "metadata": {},
   "outputs": [
    {
     "name": "stdout",
     "output_type": "stream",
     "text": [
      "2\n",
      "1\n"
     ]
    }
   ],
   "source": [
    "# The math.ceil() method rounds a number upwards to its nearest integer,\n",
    "# and the math.floor() method rounds a number downwards to its nearest integer, and returns the result:\n",
    "\n",
    "x = math.ceil(1.4)\n",
    "y = math.floor(1.4)\n",
    "\n",
    "print(x) # returns 2\n",
    "print(y) # returns 1"
   ]
  },
  {
   "cell_type": "code",
   "execution_count": 6,
   "id": "d963e920",
   "metadata": {},
   "outputs": [
    {
     "name": "stdout",
     "output_type": "stream",
     "text": [
      "3.141592653589793\n"
     ]
    }
   ],
   "source": [
    "# The math.pi constant, returns the value of PI (3.14...):\n",
    "\n",
    "x = math.pi\n",
    "\n",
    "print(x)\n"
   ]
  },
  {
   "cell_type": "raw",
   "id": "28763e6a",
   "metadata": {},
   "source": [
    "Method\t          Description\n",
    "\n",
    "math.acos()\t      Returns the arc cosine of a number\n",
    "math.acosh()\t  Returns the inverse hyperbolic cosine of a number\n",
    "math.asin()       Returns the arc sine of a number\n",
    "math.asinh()      Returns the inverse hyperbolic sine of a number\n",
    "math.atan()\t      Returns the arc tangent of a number in radians\n",
    "math.atan2()\t  Returns the arc tangent of y/x in radians\n",
    "math.atanh()\t  Returns the inverse hyperbolic tangent of a number\n",
    "math.ceil()\t      Rounds a number up to the nearest integer\n",
    "math.comb()\t      Returns the number of ways to choose k items from n items without repetition and order\n",
    "math.copysign()\t  Returns a float consisting of the value of the first parameter and the sign of the second parameter\n",
    "math.cos()\t      Returns the cosine of a number\n",
    "math.cosh()\t      Returns the hyperbolic cosine of a number\n",
    "math.degrees()    Converts an angle from radians to degrees\n",
    "math.dist()\t      Returns the Euclidean distance between two points (p and q), where p and q are the coordinates of that point\n",
    "math.erf()\t      Returns the error function of a number\n",
    "math.erfc()\t      Returns the complementary error function of a number\n",
    "math.exp()\t      Returns E raised to the power of x\n",
    "math.expm1()\t  Returns Ex - 1\n",
    "math.fabs()\t      Returns the absolute value of a number\n",
    "math.factorial()\tReturns the factorial of a number\n",
    "math.floor()\t  Rounds a number down to the nearest integer\n",
    "math.fmod()\t      Returns the remainder of x/y\n",
    "math.frexp()\t  Returns the mantissa and the exponent, of a specified number\n",
    "math.fsum()\t      Returns the sum of all items in any iterable (tuples, arrays, lists, etc.)\n",
    "math.gamma()\t  Returns the gamma function at x\n",
    "math.gcd()\t      Returns the greatest common divisor of two integers\n",
    "math.hypot()\t  Returns the Euclidean norm\n",
    "math.isclose()\t  Checks whether two values are close to each other, or not\n",
    "math.isfinite()\t  Checks whether a number is finite or not\n",
    "math.isinf()\t  Checks whether a number is infinite or not\n",
    "math.isnan()\t  Checks whether a value is NaN (not a number) or not\n",
    "math.isqrt()\t  Rounds a square root number downwards to the nearest integer\n",
    "math.ldexp()\t  Returns the inverse of math.frexp() which is x * (2**i) of the given numbers x and i\n",
    "math.lgamma()\t  Returns the log gamma value of x\n",
    "math.log()\t      Returns the natural logarithm of a number, or the logarithm of number to base\n",
    "math.log10()\t  Returns the base-10 logarithm of x\n",
    "math.log1p()\t  Returns the natural logarithm of 1+x\n",
    "math.log2()\t      Returns the base-2 logarithm of x\n",
    "math.perm()\t      Returns the number of ways to choose k items from n items with order and without repetition\n",
    "math.pow()\t      Returns the value of x to the power of y\n",
    "math.prod()\t      Returns the product of all the elements in an iterable\n",
    "math.radians()\t  Converts a degree value into radians\n",
    "math.remainder()  Returns the closest value that can make numerator completely divisible by the denominator\n",
    "math.sin()\t      Returns the sine of a number\n",
    "math.sinh()\t      Returns the hyperbolic sine of a number\n",
    "math.sqrt()\t      Returns the square root of a number\n",
    "math.tan()\t      Returns the tangent of a number\n",
    "math.tanh()\t      Returns the hyperbolic tangent of a number\n",
    "math.trunc()\t  Returns the truncated integer parts of a number\n",
    "\n",
    "\n",
    "Math Constants\n",
    "\n",
    "Constant\t      Description\n",
    "\n",
    "math.e\t          Returns Euler's number (2.7182...)\n",
    "math.inf\t      Returns a floating-point positive infinity\n",
    "math.nan\t      Returns a floating-point NaN (Not a Number) value\n",
    "math.pi\t          Returns PI (3.1415...)\n",
    "math.tau\t      Returns tau (6.2831...)\n",
    "\n"
   ]
  },
  {
   "cell_type": "raw",
   "id": "ea5b5dfb",
   "metadata": {},
   "source": [
    "Definition and Usage\n",
    "The math.acos() method returns the arc cosine value of a number.\n",
    "\n",
    "Note: The parameter passed in math.acos() must lie between -1 to 1.\n",
    "\n",
    "Tip: math.acos(-1) will return the value of PI.\n",
    "\n",
    "Syntax\n",
    "math.acos(x)\n",
    "Parameter Values\n",
    "Parameter\tDescription\n",
    "x\tRequired. A number in the range -1 to 1. If x is not a number, it returns a TypeError"
   ]
  },
  {
   "cell_type": "code",
   "execution_count": 7,
   "id": "878baa3e",
   "metadata": {},
   "outputs": [
    {
     "name": "stdout",
     "output_type": "stream",
     "text": [
      "0.9884320889261531\n",
      "2.15316056466364\n",
      "1.5707963267948966\n",
      "0.0\n",
      "3.141592653589793\n"
     ]
    }
   ],
   "source": [
    "# Return the arc cosine of numbers\n",
    "print(math.acos(0.55))\n",
    "print(math.acos(-0.55))\n",
    "print(math.acos(0))\n",
    "print(math.acos(1))\n",
    "print(math.acos(-1))\n"
   ]
  },
  {
   "cell_type": "raw",
   "id": "b1176a07",
   "metadata": {},
   "source": [
    "Definition and Usage\n",
    "The math.acosh() method returns the inverse hyperbolic cosine of a number.\n",
    "\n",
    "Note: The parameter passed in acosh() must be greater than or equal to 1.\n",
    "\n",
    "Syntax\n",
    "math.acosh(x)\n",
    "Parameter Values\n",
    "Parameter\tDescription\n",
    "x\tRequired. A positive number >= 1. If x is not a number, it returns a TypeError"
   ]
  },
  {
   "cell_type": "code",
   "execution_count": 8,
   "id": "a3d52f0d",
   "metadata": {},
   "outputs": [
    {
     "name": "stdout",
     "output_type": "stream",
     "text": [
      "2.6339157938496336\n",
      "4.71841914237288\n",
      "1.5447131178707394\n",
      "0.0\n"
     ]
    }
   ],
   "source": [
    "# Return the inverse hyperbolic cosine of different numbers\n",
    "print (math.acosh(7))\n",
    "print (math.acosh(56))\n",
    "print (math.acosh(2.45))\n",
    "print (math.acosh(1))"
   ]
  },
  {
   "cell_type": "raw",
   "id": "d9baba67",
   "metadata": {},
   "source": [
    "Definition and Usage\n",
    "The math.asin() method returns the arc sine of a number.\n",
    "\n",
    "Note: The parameter passed in math.asin() must lie between -1 to 1.\n",
    "\n",
    "Tip: math.asin(1) will return the value of PI/2, and math.asin(-1) will return the value of -PI/2.\n",
    "\n",
    "Syntax\n",
    "math.asin(x)\n",
    "Parameter Values\n",
    "Parameter\tDescription\n",
    "x\tRequired. A number in the range -1 to 1. If x is not a number, it returns a TypeError"
   ]
  },
  {
   "cell_type": "code",
   "execution_count": 9,
   "id": "9d292e4a",
   "metadata": {},
   "outputs": [
    {
     "name": "stdout",
     "output_type": "stream",
     "text": [
      "0.5823642378687435\n",
      "-0.5823642378687435\n",
      "0.0\n",
      "1.5707963267948966\n",
      "-1.5707963267948966\n"
     ]
    }
   ],
   "source": [
    "# Return the arc sine of numbers\n",
    "print(math.asin(0.55))\n",
    "print(math.asin(-0.55))\n",
    "print(math.asin(0))\n",
    "print(math.asin(1))\n",
    "print(math.asin(-1))"
   ]
  },
  {
   "cell_type": "raw",
   "id": "c96e6b54",
   "metadata": {},
   "source": [
    "Definition and Usage\n",
    "The math.asinh() method returns the inverse hyperbolic sine of a number.\n",
    "\n",
    "Syntax\n",
    "math.asinh(x)\n",
    "Parameter Values\n",
    "Parameter\tDescription\n",
    "x\tRequired. A positive or negative number. If x is not a number, it returns a TypeError"
   ]
  },
  {
   "cell_type": "code",
   "execution_count": 10,
   "id": "88ff0594",
   "metadata": {},
   "outputs": [
    {
     "name": "stdout",
     "output_type": "stream",
     "text": [
      "2.644120761058629\n",
      "4.718578581151767\n",
      "1.6284998192841909\n",
      "0.881373587019543\n"
     ]
    }
   ],
   "source": [
    "# Return the inverse hyperbolic sine of numbers\n",
    "print(math.asinh(7))\n",
    "print(math.asinh(56))\n",
    "print(math.asinh(2.45))\n",
    "print(math.asinh(1))"
   ]
  },
  {
   "cell_type": "raw",
   "id": "ba8a25fa",
   "metadata": {},
   "source": [
    "Definition and Usage\n",
    "The math.atan() method returns the arc tangent of a number (x) as a numeric value between -PI/2 and PI/2 radians.\n",
    "\n",
    "Arc tangent is also defined as an inverse tangent function of x, where x is the value of the arc tangent is to be calculated.\n",
    "\n",
    "Syntax\n",
    "math.atan(x)\n",
    "Parameter Values\n",
    "Parameter\tDescription\n",
    "x\tRequired. A positive or negative number. If x is not a number, it returns error a TypeError"
   ]
  },
  {
   "cell_type": "code",
   "execution_count": 11,
   "id": "fbc5d88f",
   "metadata": {},
   "outputs": [
    {
     "name": "stdout",
     "output_type": "stream",
     "text": [
      "0.37185607384858127\n",
      "1.5558720618048116\n",
      "-1.5232132235179132\n"
     ]
    }
   ],
   "source": [
    "#fReturn the arc tangent of different numbers\n",
    "print (math.atan(0.39))\n",
    "print (math.atan(67))\n",
    "print (math.atan(-21))"
   ]
  },
  {
   "cell_type": "raw",
   "id": "8ac51347",
   "metadata": {},
   "source": [
    "Definition and Usage\n",
    "The math.atan2() method returns the arc tangent of y/x, in radians. Where x and y are the coordinates of a point (x,y).\n",
    "\n",
    "The returned value is between PI and -PI.\n",
    "\n",
    "Syntax\n",
    "math.atan2(y, x)\n",
    "Parameter Values\n",
    "Parameter\tDescription\n",
    "y\tRequired. Specifies a positive or negative number\n",
    "x\tRequired. Specifies a positive or negative number"
   ]
  },
  {
   "cell_type": "code",
   "execution_count": 12,
   "id": "502bdbac",
   "metadata": {},
   "outputs": [
    {
     "name": "stdout",
     "output_type": "stream",
     "text": [
      "1.0121970114513341\n",
      "1.1071487177940904\n",
      "1.7738415440483617\n"
     ]
    }
   ],
   "source": [
    "# Return the arc tangent of y/x in radians\n",
    "print(math.atan2(8, 5))\n",
    "print(math.atan2(20, 10))\n",
    "print(math.atan2(34, -7))"
   ]
  },
  {
   "cell_type": "raw",
   "id": "776144de",
   "metadata": {},
   "source": [
    "Definition and Usage\n",
    "The math.atanh() method returns the inverse hyperbolic tangent of a number.\n",
    "\n",
    "Note: The parameter passed in math.atanh() must lie between -0.99 to 0.99.\n",
    "\n",
    "Syntax\n",
    "math.atanh(x)\n",
    "Parameter Values\n",
    "Parameter\tDescription\n",
    "x\tRequired. A positive or negative number between -0.99 and 0.99. If x is not a number, it returns a TypeError"
   ]
  },
  {
   "cell_type": "code",
   "execution_count": 13,
   "id": "615ef97b",
   "metadata": {},
   "outputs": [
    {
     "name": "stdout",
     "output_type": "stream",
     "text": [
      "0.6776660677579618\n",
      "-0.12058102840844402\n"
     ]
    }
   ],
   "source": [
    "#print the hyperbolic arctangent of different numbers\n",
    "print(math.atanh(0.59))\n",
    "print(math.atanh(-0.12))"
   ]
  },
  {
   "cell_type": "raw",
   "id": "a14fd6ed",
   "metadata": {},
   "source": [
    "Definition and Usage\n",
    "The math.ceil() method rounds a number UP to the nearest integer, if necessary, and returns the result.\n",
    "\n",
    "Tip: To round a number DOWN to the nearest integer, look at the math.floor() method.\n",
    "\n",
    "Syntax\n",
    "math.ceil(x)\n",
    "Parameter Values\n",
    "Parameter\tDescription\n",
    "x\tRequired. Specifies the number to round up"
   ]
  },
  {
   "cell_type": "code",
   "execution_count": 14,
   "id": "b5eb3f0c",
   "metadata": {},
   "outputs": [
    {
     "name": "stdout",
     "output_type": "stream",
     "text": [
      "2\n",
      "6\n",
      "-5\n",
      "23\n",
      "10\n"
     ]
    }
   ],
   "source": [
    "# Round a number upward to its nearest integer\n",
    "print(math.ceil(1.4))\n",
    "print(math.ceil(5.3))\n",
    "print(math.ceil(-5.3))\n",
    "print(math.ceil(22.6))\n",
    "print(math.ceil(10.0))"
   ]
  },
  {
   "cell_type": "raw",
   "id": "b5d8d2c1",
   "metadata": {},
   "source": [
    "Definition and Usage\n",
    "The math.comb() method returns the number of ways picking k unordered outcomes from n possibilities, without repetition, also known as combinations.\n",
    "\n",
    "Note: The parameters passed in this method must be positive integers.\n",
    "\n",
    "Syntax\n",
    "math.comb(n, k)\n",
    "Parameter Values\n",
    "Parameter\tDescription\n",
    "n\tRequired. Positive integers of items to choose from\n",
    "k\tRequired. Positive integers of items to choose\n",
    "Note: If the value of k is greater than the value of n it will return 0 as a result.\n",
    "\n",
    "Note: If the parameters are negative, a ValueError occurs. If the parameters are not integers, a TypeError occurs."
   ]
  },
  {
   "cell_type": "code",
   "execution_count": 15,
   "id": "3a63bb12",
   "metadata": {},
   "outputs": [
    {
     "name": "stdout",
     "output_type": "stream",
     "text": [
      "21\n"
     ]
    }
   ],
   "source": [
    "# Initialize the number of items to choose from\n",
    "n = 7\n",
    "\n",
    "# Initialize the number of possibilities to choose\n",
    "k = 5\n",
    "\n",
    "# Print total number of possible combinations\n",
    "print (math.comb(n, k))"
   ]
  },
  {
   "cell_type": "raw",
   "id": "cc02c9e6",
   "metadata": {},
   "source": [
    "Definition and Usage\n",
    "The math.copysign() method returns a float consisting of the value of the first parameter and the sign(+/-) of the second parameter.\n",
    "\n",
    "Syntax\n",
    "math.copysign(x, y)\n",
    "Parameter Values\n",
    "Parameter\tDescription\n",
    "x\tRequired. A number. The return will have the value of this parameter\n",
    "y\tRequired. A number. The return will have the sign (+/-) of this parameter"
   ]
  },
  {
   "cell_type": "code",
   "execution_count": 16,
   "id": "a412ab02",
   "metadata": {},
   "outputs": [
    {
     "name": "stdout",
     "output_type": "stream",
     "text": [
      "-4.0\n",
      "8.0\n",
      "-43.0\n"
     ]
    }
   ],
   "source": [
    "#Return the value of the first parameter and the sign of the second parameter\n",
    "print(math.copysign(4, -1))\n",
    "print(math.copysign(-8, 97.21))\n",
    "print(math.copysign(-43, -76))"
   ]
  },
  {
   "cell_type": "raw",
   "id": "821e5879",
   "metadata": {},
   "source": [
    "Definition and Usage\n",
    "The math.cos() method returns the cosine of a number.\n",
    "\n",
    "Syntax\n",
    "math.cos(x)\n",
    "Parameter Values\n",
    "Parameter\tDescription\n",
    "x\tRequired. A number to find the cosine of. If the value is not a number, it returns a TypeError\n",
    "Technical Details\n",
    "Return Value:\tA float value, from -1 to 1, representing the cosine of an angle"
   ]
  },
  {
   "cell_type": "code",
   "execution_count": 3,
   "id": "c19f8c57",
   "metadata": {},
   "outputs": [
    {
     "name": "stdout",
     "output_type": "stream",
     "text": [
      "1.0\n",
      "0.3342377271245026\n",
      "-0.8390715290764524\n",
      "-1.0\n"
     ]
    }
   ],
   "source": [
    "# Return the cosine of different numbers\n",
    "print (math.cos(0.00))\n",
    "print (math.cos(-1.23))\n",
    "print (math.cos(10))\n",
    "print (math.cos(3.14159265359))"
   ]
  },
  {
   "cell_type": "raw",
   "id": "a74d7afe",
   "metadata": {},
   "source": [
    "Definition and Usage\n",
    "The math.cosh() method returns the hyperbolic cosine of a number (equivalent to (exp(number) + exp(-number)) / 2).\n",
    "\n",
    "Syntax\n",
    "math.cosh(x)\n",
    "Parameter Values\n",
    "Parameter\tDescription\n",
    "x\tRequired. A number to find the hyperbolic cosine of. If the value is not a number, it returns a TypeError\n",
    "Technical Details\n",
    "Return Value:\tA float value, representing the hyperbolic cosine of a number"
   ]
  },
  {
   "cell_type": "code",
   "execution_count": 4,
   "id": "684697f9",
   "metadata": {},
   "outputs": [
    {
     "name": "stdout",
     "output_type": "stream",
     "text": [
      "1.5430806348152437\n",
      "3665.986837772461\n",
      "1.0\n",
      "2.3954685410471868\n"
     ]
    }
   ],
   "source": [
    "# Return the hyperbolic cosine of different numbers\n",
    "print (math.cosh(1))\n",
    "print (math.cosh(8.90))\n",
    "print (math.cosh(0))\n",
    "print (math.cosh(1.52))"
   ]
  },
  {
   "cell_type": "raw",
   "id": "9d6d5309",
   "metadata": {},
   "source": [
    "Definition and Usage\n",
    "The mmath.degrees() method converts an angle from radians to degrees.\n",
    "\n",
    "Tip: PI (3.14..) radians are equal to 180 degrees, which means that 1 radian is equal to 57.2957795 degrees.\n",
    "\n",
    "Tip: See also math.radians() to convert a degree value into radians.\n",
    "\n",
    "Syntax\n",
    "math.degrees(x)\n",
    "Parameter Values\n",
    "Parameter\tDescription\n",
    "x\tRequired. A radian value to convert into degrees. If the parameter is not a number, it returns a TypeError\n",
    "Technical Details\n",
    "Return Value:\tA float value, representing the value in degrees"
   ]
  },
  {
   "cell_type": "code",
   "execution_count": 5,
   "id": "09e5c956",
   "metadata": {},
   "outputs": [
    {
     "name": "stdout",
     "output_type": "stream",
     "text": [
      "509.9324376664327\n",
      "-1145.9155902616465\n",
      "57.29577951308232\n",
      "5156.620156177409\n"
     ]
    }
   ],
   "source": [
    "# Convert from radians to degrees:\n",
    "print (math.degrees(8.90))\n",
    "print (math.degrees(-20))\n",
    "print (math.degrees(1))\n",
    "print (math.degrees(90))"
   ]
  },
  {
   "cell_type": "raw",
   "id": "e3ddfa33",
   "metadata": {},
   "source": [
    "Definition and Usage\n",
    "The math.dist() method returns the Euclidean distance between two points (p and q), where p and q are the coordinates of that point.\n",
    "\n",
    "Note: The two points (p and q) must be of the same dimensions.\n",
    "\n",
    "Syntax\n",
    "math.dist(p, q)\n",
    "Parameter Values\n",
    "Parameter\tDescription\n",
    "p\tRequired. Specifies point 1\n",
    "q\tRequired. Specifies point 2\n",
    "Technical Details\n",
    "Return Value:\tA float value, representing the Euclidean distance between p and q"
   ]
  },
  {
   "cell_type": "code",
   "execution_count": 6,
   "id": "e0475c9a",
   "metadata": {},
   "outputs": [
    {
     "name": "stdout",
     "output_type": "stream",
     "text": [
      "2.0\n",
      "9.486832980505138\n"
     ]
    }
   ],
   "source": [
    "p = [3]\n",
    "q = [1]\n",
    "\n",
    "# Calculate Euclidean distance\n",
    "print (math.dist(p, q))\n",
    "\n",
    "p = [3, 3]\n",
    "q = [6, 12]\n",
    "\n",
    "# Calculate Euclidean distance\n",
    "print (math.dist(p, q))"
   ]
  },
  {
   "cell_type": "raw",
   "id": "26a873d4",
   "metadata": {},
   "source": [
    "Definition and Usage\n",
    "The math.erf() method returns the error function of a number.\n",
    "\n",
    "This method accepts a value between - inf and + inf, and returns a value between - 1 to + 1.\n",
    "\n",
    "Syntax\n",
    "math.erf(x)\n",
    "Parameter Values\n",
    "Parameter\tDescription\n",
    "x\tRequired. A number to find the error function of\n",
    "Technical Details\n",
    "Return Value:\tA float value, representing the error function of a number"
   ]
  },
  {
   "cell_type": "code",
   "execution_count": 7,
   "id": "6a67d58f",
   "metadata": {},
   "outputs": [
    {
     "name": "stdout",
     "output_type": "stream",
     "text": [
      "0.6566277023003051\n",
      "0.9419137152583654\n",
      "-1.0\n"
     ]
    }
   ],
   "source": [
    "# Print error function for different numbers\n",
    "print (math.erf(0.67))\n",
    "print (math.erf(1.34))\n",
    "print (math.erf(-6))"
   ]
  },
  {
   "cell_type": "code",
   "execution_count": 8,
   "id": "4c2f6dec",
   "metadata": {},
   "outputs": [
    {
     "name": "stdout",
     "output_type": "stream",
     "text": [
      "0.9297341930135783\n",
      "-0.9297341930135783\n"
     ]
    }
   ],
   "source": [
    "#Print the error function of the same number, positive and negative\n",
    "print (math.erf(1.28))\n",
    "print (math.erf(-1.28))\n"
   ]
  },
  {
   "cell_type": "raw",
   "id": "2bd57de9",
   "metadata": {},
   "source": [
    "Definition and Usage\n",
    "The math.erfc() method returns the complementary error function of a number.\n",
    "\n",
    "This method accepts a value between - inf and + inf, and returns a value between 0 and 2.\n",
    "\n",
    "Syntax\n",
    "math.erfc(x)\n",
    "Parameter Values\n",
    "Parameter\tDescription\n",
    "x\tRequired. A number to find the complementary error function of\n",
    "Technical Details\n",
    "Return Value:\tA float value, representing the complementary error function of a number"
   ]
  },
  {
   "cell_type": "code",
   "execution_count": 9,
   "id": "f2532550",
   "metadata": {},
   "outputs": [
    {
     "name": "stdout",
     "output_type": "stream",
     "text": [
      "0.3433722976996949\n",
      "0.05808628474163466\n",
      "2.0\n"
     ]
    }
   ],
   "source": [
    "# Print complementary error function for different numbers\n",
    "print (math.erfc(0.67))\n",
    "print (math.erfc(1.34))\n",
    "print (math.erfc(-6))"
   ]
  },
  {
   "cell_type": "raw",
   "id": "e3e809a4",
   "metadata": {},
   "source": [
    "Definition and Usage\n",
    "The math.exp() method returns E raised to the power of x (Ex).\n",
    "\n",
    "'E' is the base of the natural system of logarithms (approximately 2.718282) and x is the number passed to it.\n",
    "\n",
    "Syntax\n",
    "math.exp(x)\n",
    "Parameter Values\n",
    "Parameter\tDescription\n",
    "x\tRequired. Specifies the exponent\n",
    "Technical Details\n",
    "Return Value:\tA float value, representing 'E' raised to the power of x"
   ]
  },
  {
   "cell_type": "code",
   "execution_count": 10,
   "id": "10003c42",
   "metadata": {},
   "outputs": [
    {
     "name": "stdout",
     "output_type": "stream",
     "text": [
      "1.6948892444103338e+28\n",
      "0.0010179138409954387\n"
     ]
    }
   ],
   "source": [
    "#find the exponential of the specified value\n",
    "print(math.exp(65))\n",
    "print(math.exp(-6.89))"
   ]
  },
  {
   "cell_type": "raw",
   "id": "f4f46be7",
   "metadata": {},
   "source": [
    "Definition and Usage\n",
    "The math.expm1() method returns Ex - 1.\n",
    "\n",
    "'E' is the base of the natural system of logarithms (approximately 2.718282) and x is the number passed to it.\n",
    "\n",
    "This function is more accurate than calling math.exp() and subtracting 1.\n",
    "\n",
    "Syntax\n",
    "math.expm1(x)\n",
    "Parameter Values\n",
    "Parameter\tDescription\n",
    "x\tRequired. Specifies the exponent\n",
    "Technical Details\n",
    "Return Value:\tA float value, representing Ex - 1"
   ]
  },
  {
   "cell_type": "code",
   "execution_count": 11,
   "id": "60829f18",
   "metadata": {},
   "outputs": [
    {
     "name": "stdout",
     "output_type": "stream",
     "text": [
      "78962960182679.69\n",
      "-0.9999813562576685\n"
     ]
    }
   ],
   "source": [
    "#Return the exponential value of a number - 1\n",
    "print(math.expm1(32))\n",
    "print(math.expm1(-10.89))"
   ]
  },
  {
   "cell_type": "raw",
   "id": "fdb910b5",
   "metadata": {},
   "source": [
    "Definition and Usage\n",
    "The math.fabs() method returns the absolute value of a number, as a float.\n",
    "\n",
    "Absolute denotes a non-negative number. This removes the negative sign of the value if it has any.\n",
    "\n",
    "Unlike Python abs(), this method always converts the value to a float value.\n",
    "\n",
    "Syntax\n",
    "math.fabs(x)\n",
    "Parameter Values\n",
    "Parameter\tDescription\n",
    "x\tRequired. A number. If we try anything else except a number, it returns a TypeError\n",
    "Technical Details\n",
    "Return Value:\tA float value, representing the absolute value of x"
   ]
  },
  {
   "cell_type": "code",
   "execution_count": 12,
   "id": "8d2278c0",
   "metadata": {},
   "outputs": [
    {
     "name": "stdout",
     "output_type": "stream",
     "text": [
      "66.43\n",
      "7.0\n"
     ]
    }
   ],
   "source": [
    "#Print absolute values from numbers\n",
    "print(math.fabs(-66.43))\n",
    "print(math.fabs(-7))"
   ]
  },
  {
   "cell_type": "raw",
   "id": "75927e9e",
   "metadata": {},
   "source": [
    "Definition and Usage\n",
    "The math.factorial() method returns the factorial of a number.\n",
    "\n",
    "Note: This method only accepts positive integers.\n",
    "\n",
    "The factorial of a number is the sum of the multiplication, of all the whole numbers, from our specified number down to 1. For example, the factorial of 6 would be 6 x 5 x 4 x 3 x 2 x 1 = 720\n",
    "\n",
    "Syntax\n",
    "math.factorial(x)\n",
    "Parameter Values\n",
    "Parameter\tDescription\n",
    "x\tRequired. A positive integer. If the number is negative, or not an integer, it returns a ValueError. If the value is not a number, it returns a TypeError\n",
    "Technical Details\n",
    "Return Value:\tA positive int value"
   ]
  },
  {
   "cell_type": "code",
   "execution_count": 13,
   "id": "34ece926",
   "metadata": {},
   "outputs": [
    {
     "name": "stdout",
     "output_type": "stream",
     "text": [
      "362880\n",
      "720\n",
      "479001600\n"
     ]
    }
   ],
   "source": [
    "#Return factorial of a number\n",
    "print(math.factorial(9))\n",
    "print(math.factorial(6))\n",
    "print(math.factorial(12))"
   ]
  },
  {
   "cell_type": "raw",
   "id": "e73c3e7f",
   "metadata": {},
   "source": [
    "Definition and Usage\n",
    "The math.floor() method rounds a number DOWN to the nearest integer, if necessary, and returns the result.\n",
    "\n",
    "Tip: To round a number UP to the nearest integer, look at the math.ceil() method.\n",
    "\n",
    "Syntax\n",
    "math.floor(x)\n",
    "Parameter Values\n",
    "Parameter\tDescription\n",
    "x\tRequired. Specifies the number to round down\n",
    "Technical Details\n",
    "Return Value:\tAn int value, representing the rounded number"
   ]
  },
  {
   "cell_type": "code",
   "execution_count": 14,
   "id": "de837a58",
   "metadata": {},
   "outputs": [
    {
     "name": "stdout",
     "output_type": "stream",
     "text": [
      "0\n",
      "1\n",
      "5\n",
      "-6\n",
      "22\n",
      "10\n"
     ]
    }
   ],
   "source": [
    "# Round numbers down to the nearest integer\n",
    "print(math.floor(0.6))\n",
    "print(math.floor(1.4))\n",
    "print(math.floor(5.3))\n",
    "print(math.floor(-5.3))\n",
    "print(math.floor(22.6))\n",
    "print(math.floor(10.0))"
   ]
  },
  {
   "cell_type": "raw",
   "id": "1fd4b83f",
   "metadata": {},
   "source": [
    "Definition and Usage\n",
    "The math.fmod() method returns the remainder (modulo) of x/y.\n",
    "\n",
    "Syntax\n",
    "math.fmod(x, y)\n",
    "Parameter Values\n",
    "Parameter\tDescription\n",
    "x\tRequired. A positive or negative number to divide\n",
    "y\tRequired. A positive or negative number to divide x with\n",
    "Note: If both x and y = 0, it returns a ValueError.\n",
    "\n",
    "Note: If y = 0, it returns a ValueError.\n",
    "\n",
    "Note: If x or y is not a number, it returns a TypeError.\n",
    "\n",
    "Technical Details\n",
    "Return Value:\tA float value, representing the remainder of x/y"
   ]
  },
  {
   "cell_type": "code",
   "execution_count": 15,
   "id": "93839652",
   "metadata": {},
   "outputs": [
    {
     "name": "stdout",
     "output_type": "stream",
     "text": [
      "0.0\n",
      "2.0\n",
      "3.0\n",
      "-1.0\n"
     ]
    },
    {
     "ename": "ValueError",
     "evalue": "math domain error",
     "output_type": "error",
     "traceback": [
      "\u001b[1;31m---------------------------------------------------------------------------\u001b[0m",
      "\u001b[1;31mValueError\u001b[0m                                Traceback (most recent call last)",
      "Cell \u001b[1;32mIn [15], line 6\u001b[0m\n\u001b[0;32m      4\u001b[0m \u001b[38;5;28mprint\u001b[39m(math\u001b[38;5;241m.\u001b[39mfmod(\u001b[38;5;241m15\u001b[39m, \u001b[38;5;241m6\u001b[39m))\n\u001b[0;32m      5\u001b[0m \u001b[38;5;28mprint\u001b[39m(math\u001b[38;5;241m.\u001b[39mfmod(\u001b[38;5;241m-\u001b[39m\u001b[38;5;241m10\u001b[39m, \u001b[38;5;241m3\u001b[39m))\n\u001b[1;32m----> 6\u001b[0m \u001b[38;5;28mprint\u001b[39m(\u001b[43mmath\u001b[49m\u001b[38;5;241;43m.\u001b[39;49m\u001b[43mfmod\u001b[49m\u001b[43m(\u001b[49m\u001b[38;5;241;43m0\u001b[39;49m\u001b[43m,\u001b[49m\u001b[43m \u001b[49m\u001b[38;5;241;43m0\u001b[39;49m\u001b[43m)\u001b[49m)\n",
      "\u001b[1;31mValueError\u001b[0m: math domain error"
     ]
    }
   ],
   "source": [
    "# Return the remainder of x/y\n",
    "print(math.fmod(20, 4))\n",
    "print(math.fmod(20, 3))\n",
    "print(math.fmod(15, 6))\n",
    "print(math.fmod(-10, 3))\n",
    "print(math.fmod(0, 0))"
   ]
  },
  {
   "cell_type": "raw",
   "id": "c872e918",
   "metadata": {},
   "source": [
    "Definition and Usage\n",
    "The math.frexp() method returns the mantissa and the exponent of a specified number, as a pair (m,e).\n",
    "\n",
    "The mathematical formula for this method is: number = m * 2**e.\n",
    "\n",
    "Syntax\n",
    "math.frexp(x)\n",
    "Parameter Values\n",
    "Parameter\tDescription\n",
    "x\tRequired. A positive or negative number. If the value is not a number, it returns TypeError\n",
    "Technical Details\n",
    "Return Value:\tA tuple value, representing the mantissa and exponent of x, as a pair (m,e). Mantissa is returned as float exponent returned as integer"
   ]
  },
  {
   "cell_type": "code",
   "execution_count": 16,
   "id": "5688de6d",
   "metadata": {},
   "outputs": [
    {
     "name": "stdout",
     "output_type": "stream",
     "text": [
      "(0.5, 3)\n",
      "(-0.5, 3)\n",
      "(0.875, 3)\n"
     ]
    }
   ],
   "source": [
    "#Return mantissa and exponent of numbers\n",
    "print(math.frexp(4))\n",
    "print(math.frexp(-4))\n",
    "print(math.frexp(7))"
   ]
  },
  {
   "cell_type": "raw",
   "id": "aa73924f",
   "metadata": {},
   "source": [
    "Definition and Usage\n",
    "The math.fsum() method returns the sum of all items in any iterable (tuples, arrays, lists, etc.).\n",
    "\n",
    "Syntax\n",
    "math.fsum(iterable)\n",
    "Parameter Values\n",
    "Parameter\tDescription\n",
    "iterable\tRequired. The list, tuple, array to sum. If the iterable is not numbers, it returns a TypeError\n",
    "Technical Details\n",
    "Return Value:\tA float value, representing the sum of all items in the iterable"
   ]
  },
  {
   "cell_type": "code",
   "execution_count": 17,
   "id": "1a8189eb",
   "metadata": {},
   "outputs": [
    {
     "name": "stdout",
     "output_type": "stream",
     "text": [
      "15.0\n",
      "1340.0\n",
      "8.0\n"
     ]
    }
   ],
   "source": [
    "# Print the sum of all items\n",
    "print(math.fsum([1, 2, 3, 4, 5]))\n",
    "print(math.fsum([100, 400, 340, 500]))\n",
    "print(math.fsum([1.7, 0.3, 1.5, 4.5]))"
   ]
  },
  {
   "cell_type": "raw",
   "id": "55162c3f",
   "metadata": {},
   "source": [
    "Definition and Usage\n",
    "The math.gamma() method returns the gamma function at a number.\n",
    "\n",
    "Tip: To find the log gamma value of a number, use the math.lgamma() method.\n",
    "\n",
    "Syntax\n",
    "math.gamma(x)\n",
    "Parameter Values\n",
    "Parameter\tDescription\n",
    "x\tRequired. A number to find the gamma function for. If the number is a negative integer, it returns a ValueError. If it is not a number, it returns a TypeError.\n",
    "Technical Details\n",
    "Return Value:\tA float value, representing the gamma function at x"
   ]
  },
  {
   "cell_type": "code",
   "execution_count": 18,
   "id": "a5941cbb",
   "metadata": {},
   "outputs": [
    {
     "name": "stdout",
     "output_type": "stream",
     "text": [
      "-10.686287021193193\n",
      "5040.0\n",
      "0.9181687423997604\n",
      "8.946182130782976e+116\n",
      "-3.578429819277059\n"
     ]
    }
   ],
   "source": [
    "# Return the gamma function for different numbers\n",
    "print(math.gamma(-0.1))\n",
    "print(math.gamma(8))\n",
    "print(math.gamma(1.2))\n",
    "print(math.gamma(80))\n",
    "print(math.gamma(-0.55))"
   ]
  },
  {
   "cell_type": "raw",
   "id": "6dc581bc",
   "metadata": {},
   "source": [
    "Definition and Usage\n",
    "The math.gcd() method returns the greatest common divisor of the two integers int1 and int2.\n",
    "\n",
    "GCD is the largest common divisor that divides the numbers without a remainder.\n",
    "\n",
    "GCD is also known as the highest common factor (HCF).\n",
    "\n",
    "Tip: gcd(0,0) returns 0.\n",
    "\n",
    "Syntax\n",
    "math.gcd(int1, int2)\n",
    "Parameter Values\n",
    "Parameter\tDescription\n",
    "int1\tRequired. The first integer to find the GCD for\n",
    "int2\tRequired. The second integer to find the GCD for\n",
    "Technical Details\n",
    "Return Value:\tAn int value, representing the greatest common divisor (GCD) for two integers"
   ]
  },
  {
   "cell_type": "code",
   "execution_count": 19,
   "id": "e1c94985",
   "metadata": {},
   "outputs": [
    {
     "name": "stdout",
     "output_type": "stream",
     "text": [
      "3\n",
      "6\n",
      "12\n",
      "12\n",
      "1\n",
      "10\n",
      "34\n",
      "0\n"
     ]
    }
   ],
   "source": [
    "#find the  the greatest common divisor of the two integers\n",
    "print (math.gcd(3, 6))\n",
    "print (math.gcd(6, 12))\n",
    "print (math.gcd(12, 36))\n",
    "print (math.gcd(-12, -36))\n",
    "print (math.gcd(5, 12))\n",
    "print (math.gcd(10, 0))\n",
    "print (math.gcd(0, 34))\n",
    "print (math.gcd(0, 0))"
   ]
  },
  {
   "cell_type": "raw",
   "id": "b632bf36",
   "metadata": {},
   "source": [
    "Definition and Usage\n",
    "The math.hypot() method returns the Euclidean norm. The Euclidian norm is the distance from the origin to the coordinates given.\n",
    "\n",
    "Prior Python 3.8, this method was used only to find the hypotenuse of a right-angled triangle: sqrt(x*x + y*y).\n",
    "\n",
    "From Python 3.8, this method is used to calculate the Euclidean norm as well. For n-dimensional cases, the coordinates passed are assumed to be like (x1, x2, x3, ..., xn). So Euclidean length from the origin is calculated by sqrt(x1*x1 + x2*x2 +x3*x3 .... xn*xn).\n",
    "\n",
    "Syntax\n",
    "\n",
    "math.hypot(x1, x2, x3, ..., xn)\n",
    "Parameter Values\n",
    "Parameter\tDescription\n",
    "x1, x2, x3, ..., xn\tRequired. Two or more points representing coordinates\n",
    "\n",
    "Technical Details\n",
    "\n",
    "Return Value:\tA float value, representing the Euclidean distance from the origin for n inputs, or hypotenuse of a right-angled                  triangle for two inputs"
   ]
  },
  {
   "cell_type": "code",
   "execution_count": 20,
   "id": "282d9d7b",
   "metadata": {},
   "outputs": [
    {
     "name": "stdout",
     "output_type": "stream",
     "text": [
      "11.180339887498949\n"
     ]
    }
   ],
   "source": [
    "#set perpendicular and base\n",
    "parendicular = 10\n",
    "base = 5\n",
    "\n",
    "#print the hypotenuse of a right-angled triangle\n",
    "print(math.hypot(parendicular, base))"
   ]
  },
  {
   "cell_type": "code",
   "execution_count": 21,
   "id": "7c04cff0",
   "metadata": {},
   "outputs": [
    {
     "name": "stdout",
     "output_type": "stream",
     "text": [
      "17.0\n",
      "11.357816691600547\n",
      "18.439088914585774\n"
     ]
    }
   ],
   "source": [
    "#print the Euclidean norm for the given points\n",
    "print(math.hypot(10, 2, 4, 13))\n",
    "print(math.hypot(4, 7, 8))\n",
    "print(math.hypot(12, 14))"
   ]
  },
  {
   "cell_type": "raw",
   "id": "4fcb6f8b",
   "metadata": {},
   "source": [
    "Definition and Usage\n",
    "\n",
    "The math.isclose() method checks whether two values are close to each other, or not. Returns True if the values are close, otherwise False.\n",
    "\n",
    "This method uses a relative or absolute tolerance, to see if the values are close.\n",
    "\n",
    "Tip: It uses the following formula to compare the values: abs(a-b) <= max(rel_tol * max(abs(a), abs(b)), abs_tol)\n",
    "\n",
    "Syntax\n",
    "\n",
    "math.isclose(a, b, rel_tol, abs_tol)\n",
    "Parameter Values\n",
    "Parameter\tDescription\n",
    "a\tRequired. The first value to check for closeness\n",
    "b\tRequired. The second value to check for closeness\n",
    "rel_tol = value\tOptional. The relative tolerance. It is the maximum allowed difference between value a and b. Default value is 1e-09\n",
    "abs_tol = value\tOptional. The minimum absolute tolerance. It is used to compare values near 0. The value must be at least 0\n",
    "\n",
    "Technical Details\n",
    "\n",
    "Return Value:\tA bool value. True if the values are close, otherwise False"
   ]
  },
  {
   "cell_type": "code",
   "execution_count": 22,
   "id": "78819dba",
   "metadata": {},
   "outputs": [
    {
     "name": "stdout",
     "output_type": "stream",
     "text": [
      "False\n",
      "True\n",
      "False\n",
      "True\n"
     ]
    }
   ],
   "source": [
    "#compare the closeness of two values\n",
    "print(math.isclose(1.233, 1.4566))\n",
    "print(math.isclose(1.233, 1.233))\n",
    "print(math.isclose(1.233, 1.24))\n",
    "print(math.isclose(1.233, 1.233000001))"
   ]
  },
  {
   "cell_type": "code",
   "execution_count": 23,
   "id": "73bc5e58",
   "metadata": {},
   "outputs": [
    {
     "name": "stdout",
     "output_type": "stream",
     "text": [
      "False\n",
      "True\n"
     ]
    }
   ],
   "source": [
    "#compare the closeness of two values\n",
    "print(math.isclose(8.005, 8.450, abs_tol = 0.4))\n",
    "print(math.isclose(8.005, 8.450, abs_tol = 0.5))"
   ]
  },
  {
   "cell_type": "raw",
   "id": "d253c4fb",
   "metadata": {},
   "source": [
    "Definition and Usage\n",
    "The math.isfinite() method checks whether a number is finite or not.\n",
    "\n",
    "This method returns True if the specified number is a finite number, otherwise it returns False.\n",
    "\n",
    "Syntax\n",
    "\n",
    "math.isfinite(x)\n",
    "\n",
    "Parameter Values\n",
    "Parameter\tDescription\n",
    "x\tRequired. The value to check. Must be a number (float/integer/infinite/NaN/finite)\n",
    "\n",
    "Technical Details\n",
    "Return Value:\tA bool value, True if x is finite, False if x is either an infinity or a NaN"
   ]
  },
  {
   "cell_type": "code",
   "execution_count": 24,
   "id": "354747e8",
   "metadata": {},
   "outputs": [
    {
     "name": "stdout",
     "output_type": "stream",
     "text": [
      "True\n",
      "True\n",
      "True\n",
      "False\n",
      "False\n",
      "False\n",
      "False\n",
      "False\n",
      "True\n"
     ]
    }
   ],
   "source": [
    "# Check whether the values are finite or not\n",
    "print(math.isfinite(2000))\n",
    "print(math.isfinite(-45.34))\n",
    "print(math.isfinite(+45.34))\n",
    "print(math.isfinite(math.inf))\n",
    "print(math.isfinite(float(\"nan\")))\n",
    "print(math.isfinite(float(\"inf\")))\n",
    "print(math.isfinite(float(\"-inf\")))\n",
    "print(math.isfinite(-math.inf))\n",
    "print(math.isfinite(0.0))"
   ]
  },
  {
   "cell_type": "raw",
   "id": "54f603d9",
   "metadata": {},
   "source": [
    "Definition and Usage\n",
    "The math.isinf() method checks whether a number is infinite or not.\n",
    "\n",
    "This method returns True if the specified number is a positive or negative infinity, otherwise it returns False.\n",
    "\n",
    "Syntax\n",
    "math.isinf(x)\n",
    "Parameter Values\n",
    "Parameter\tDescription\n",
    "x\tRequired. The number to check\n",
    "Technical Details\n",
    "Return Value:\tA bool value, True if x is a positive or negative infinity, False otherwise"
   ]
  },
  {
   "cell_type": "code",
   "execution_count": 25,
   "id": "52211195",
   "metadata": {},
   "outputs": [
    {
     "name": "stdout",
     "output_type": "stream",
     "text": [
      "False\n",
      "False\n",
      "False\n",
      "True\n",
      "False\n",
      "True\n",
      "True\n",
      "True\n"
     ]
    }
   ],
   "source": [
    "# Check whether the values are infinite or not\n",
    "print(math.isinf(56))\n",
    "print(math.isinf(-45.34))\n",
    "print(math.isinf(+45.34))\n",
    "print(math.isinf(math.inf))\n",
    "print(math.isinf(float(\"nan\")))\n",
    "print(math.isinf(float(\"inf\")))\n",
    "print(math.isinf(float(\"-inf\")))\n",
    "print(math.isinf(-math.inf))"
   ]
  },
  {
   "cell_type": "raw",
   "id": "fcd872c2",
   "metadata": {},
   "source": [
    "Definition and Usage\n",
    "The math.isnan() method checks whether a value is NaN (Not a Number), or not.\n",
    "\n",
    "This method returns True if the specified value is a NaN, otherwise it returns False.\n",
    "\n",
    "Syntax\n",
    "math.isnan(x)\n",
    "Parameter Values\n",
    "Parameter\tDescription\n",
    "x\tRequired. The value to check\n",
    "Technical Details\n",
    "Return Value:\tA bool value, True if the value is NaN, otherwise False"
   ]
  },
  {
   "cell_type": "code",
   "execution_count": 26,
   "id": "d2de2f87",
   "metadata": {},
   "outputs": [
    {
     "name": "stdout",
     "output_type": "stream",
     "text": [
      "False\n",
      "False\n",
      "False\n",
      "False\n",
      "True\n",
      "False\n",
      "False\n",
      "True\n"
     ]
    }
   ],
   "source": [
    "# Check whether some values are NaN or not\n",
    "print (math.isnan (56))\n",
    "print (math.isnan (-45.34))\n",
    "print (math.isnan (+45.34))\n",
    "print (math.isnan (math.inf))\n",
    "print (math.isnan (float(\"nan\")))\n",
    "print (math.isnan (float(\"inf\")))\n",
    "print (math.isnan (float(\"-inf\")))\n",
    "print (math.isnan (math.nan))"
   ]
  },
  {
   "cell_type": "raw",
   "id": "5d3824df",
   "metadata": {},
   "source": [
    "Definition and Usage\n",
    "The math.isqrt() method rounds a square root number downwards to the nearest integer.\n",
    "\n",
    "Note: The number must be greater than or equal to 0.\n",
    "\n",
    "Syntax\n",
    "math.isqrt(x)\n",
    "Parameter Values\n",
    "Parameter\tDescription\n",
    "x\tRequired. The number to round the square root of. If x is negative, it returns a ValueError. If x is not a number, it returns a TypeError\n",
    "Technical Details\n",
    "Return Value:\tAn int value, representing the square root of a number, without decimals"
   ]
  },
  {
   "cell_type": "code",
   "execution_count": 27,
   "id": "fc5e5e21",
   "metadata": {},
   "outputs": [
    {
     "name": "stdout",
     "output_type": "stream",
     "text": [
      "3.1622776601683795\n",
      "3.4641016151377544\n",
      "8.246211251235321\n",
      "10.0\n",
      "3\n",
      "3\n",
      "8\n",
      "10\n"
     ]
    }
   ],
   "source": [
    "# Print the square root of different numbers\n",
    "print (math.sqrt(10))\n",
    "print (math.sqrt (12))\n",
    "print (math.sqrt (68))\n",
    "print (math.sqrt (100))\n",
    "\n",
    "# Round square root downward to the nearest integer\n",
    "print (math.isqrt(10))\n",
    "print (math.isqrt (12))\n",
    "print (math.isqrt (68))\n",
    "print (math.isqrt (100))"
   ]
  },
  {
   "cell_type": "raw",
   "id": "b155786a",
   "metadata": {},
   "source": [
    "Definition and Usage\n",
    "The math.ldexp() method returns  x * (2**i) of the given numbers x and i, which is the inverse of math.frexp().\n",
    "\n",
    "Syntax\n",
    "math.ldexp(x, i)\n",
    "Parameter Values\n",
    "Parameter\tDescription\n",
    "x\tRequired. A positive or negative number. If the value is not a number, it returns TypeError\n",
    "i\tRequired. A positive or negative number. If the value is not a number, it returns TypeError\n",
    "Technical Details\n",
    "Return Value:\tThe value of x * (2**i)"
   ]
  },
  {
   "cell_type": "code",
   "execution_count": 28,
   "id": "3a3299f5",
   "metadata": {},
   "outputs": [
    {
     "name": "stdout",
     "output_type": "stream",
     "text": [
      "72.0\n",
      "-20.0\n",
      "60.0\n"
     ]
    }
   ],
   "source": [
    "#Return value of x * (2**i)\n",
    "print(math.ldexp(9, 3))\n",
    "print(math.ldexp(-5, 2))\n",
    "print(math.ldexp(15, 2))"
   ]
  },
  {
   "cell_type": "raw",
   "id": "5c13d6d9",
   "metadata": {},
   "source": [
    "Definition and Usage\n",
    "The math.lgamma() method returns the natural logarithm gamma value of a number.\n",
    "\n",
    "Tip: We can find also find the log gamma value by using the math.gamma() method to find the gamma value, and then use the math.log() method to calculate the log of that value.\n",
    "\n",
    "Tip: The gamma value is equal to factorial(x-1).\n",
    "\n",
    "Syntax\n",
    "math.lgamma(x)\n",
    "Parameter Values\n",
    "Parameter\tDescription\n",
    "x\tRequired. The number to find the log gamma value of. If the number is a negative integer, it returns a ValueError. If it is not a number, it returns a TypeError.\n",
    "Technical Details\n",
    "Return Value:\tA float value, representing the log gamma value of a number"
   ]
  },
  {
   "cell_type": "code",
   "execution_count": 29,
   "id": "4b454b84",
   "metadata": {},
   "outputs": [
    {
     "name": "stdout",
     "output_type": "stream",
     "text": [
      "6.579251212010102\n",
      "-1.8075166614192908\n"
     ]
    }
   ],
   "source": [
    "# Return the log gamma value of different numbers\n",
    "print (math.lgamma(7))\n",
    "print (math.lgamma(-4.2))"
   ]
  },
  {
   "cell_type": "raw",
   "id": "1971c09c",
   "metadata": {},
   "source": [
    "Definition and Usage\n",
    "The math.log() method returns the natural logarithm of a number, or the logarithm of number to base.\n",
    "\n",
    "Syntax\n",
    "math.log(x, base)\n",
    "Parameter Values\n",
    "Parameter\tDescription\n",
    "x\tRequired. Specifies the value to calculate the logarithm for. If the value is 0 or a negative number, it returns a ValueError. If the value is not a number, it returns a TypeError\n",
    "base\tOptional. The logarithmic base to use. Default is 'e'\n",
    "Technical Details\n",
    "Return Value:\tA float value, representing the natural logarithm of a number, or the logarithm of number to base"
   ]
  },
  {
   "cell_type": "code",
   "execution_count": 30,
   "id": "723f008b",
   "metadata": {},
   "outputs": [
    {
     "name": "stdout",
     "output_type": "stream",
     "text": [
      "1.0000066849139877\n",
      "0.6931471805599453\n",
      "0.0\n"
     ]
    }
   ],
   "source": [
    "# Return the natural logarithm of different numbers\n",
    "print(math.log(2.7183))\n",
    "print(math.log(2))\n",
    "print(math.log(1))"
   ]
  },
  {
   "cell_type": "raw",
   "id": "610dd076",
   "metadata": {},
   "source": [
    "Definition and Usage\n",
    "The math.log10() method returns the base-10 logarithm of a number.\n",
    "\n",
    "Syntax\n",
    "math.log10(x)\n",
    "Parameter Values\n",
    "Parameter\tDescription\n",
    "x\tRequired. Specifies the value to calculate the logarithm for. If the value is 0 or a negative number, it returns a ValueError. If the value is not a number, it returns a TypeError\n",
    "Technical Details\n",
    "Return Value:\tA float value, representing the base-10 logarithm of a number"
   ]
  },
  {
   "cell_type": "code",
   "execution_count": 31,
   "id": "cb5aa584",
   "metadata": {},
   "outputs": [
    {
     "name": "stdout",
     "output_type": "stream",
     "text": [
      "0.43429738512450866\n",
      "0.3010299956639812\n",
      "0.0\n"
     ]
    }
   ],
   "source": [
    "# Return the base-10 logarithm of different numbers\n",
    "print(math.log10(2.7183))\n",
    "print(math.log10(2))\n",
    "print(math.log10(1))"
   ]
  },
  {
   "cell_type": "raw",
   "id": "c8fb93e1",
   "metadata": {},
   "source": [
    "Definition and Usage\n",
    "The math.log1p() method returns log(1+number), computed in a way that is accurate even when the value of number is close to zero.\n",
    "\n",
    "Syntax\n",
    "math.log1p(x)\n",
    "Parameter Values\n",
    "Parameter\tDescription\n",
    "x\tRequired. Specifies the number to process. If the value is a negative number, it returns a ValueError. If the value is not a number, it returns a TypeError\n",
    "Technical Details\n",
    "Return Value:\tA float value, representing the log value of 1+number"
   ]
  },
  {
   "cell_type": "code",
   "execution_count": 32,
   "id": "511f7b2c",
   "metadata": {},
   "outputs": [
    {
     "name": "stdout",
     "output_type": "stream",
     "text": [
      "1.313266574586334\n",
      "1.0986122886681098\n",
      "0.6931471805599453\n"
     ]
    }
   ],
   "source": [
    "# Return the log(1+number) for different numbers\n",
    "print(math.log1p(2.7183))\n",
    "print(math.log1p(2))\n",
    "print(math.log1p(1))"
   ]
  },
  {
   "cell_type": "raw",
   "id": "388e8634",
   "metadata": {},
   "source": [
    "Definition and Usage\n",
    "The math.log2() method returns the base-2 logarithm of a number.\n",
    "\n",
    "Syntax\n",
    "math.log2(x)\n",
    "Parameter Values\n",
    "Parameter\tDescription\n",
    "x\tRequired. Specifies the value to calculate the logarithm for. If the value is 0, or a negative number, it returns a ValueError. If the value is not a number, it returns a TypeError\n",
    "Technical Details\n",
    "Return Value:\tA float value, representing the base-2 logarithm of a number"
   ]
  },
  {
   "cell_type": "code",
   "execution_count": 33,
   "id": "e5d15814",
   "metadata": {},
   "outputs": [
    {
     "name": "stdout",
     "output_type": "stream",
     "text": [
      "1.4427046851812222\n",
      "1.0\n",
      "0.0\n"
     ]
    }
   ],
   "source": [
    "# Return the base-2 logarithm of different numbers\n",
    "print(math.log2(2.7183))\n",
    "print(math.log2(2))\n",
    "print(math.log2(1))"
   ]
  },
  {
   "cell_type": "raw",
   "id": "352ad9f4",
   "metadata": {},
   "source": [
    "Definition and Usage\n",
    "The math.perm() method returns the number of ways to choose k items from n items with order and without repetition.\n",
    "\n",
    "Note: The k parameter is optional. If we do not provide one, this method will return n! (for example, math.perm(7) will return 5040).\n",
    "\n",
    "Syntax\n",
    "math.perm(n, k)\n",
    "Parameter Values\n",
    "Parameter\tDescription\n",
    "n\tRequired. Positive integers of items to choose from\n",
    "k\tOptional. Positive integers of items to choose\n",
    "Note: If k is greater than n, it returns 0.\n",
    "\n",
    "Note: If n or k are negative, a ValueError occurs. If n or k  are not integers, a TypeError occurs.\n",
    "\n",
    "Technical Details\n",
    "Return Value:\tAn int value, representing the number of ways to choose k items from n items with order and without repetition"
   ]
  },
  {
   "cell_type": "code",
   "execution_count": 34,
   "id": "89fe0f4c",
   "metadata": {},
   "outputs": [
    {
     "name": "stdout",
     "output_type": "stream",
     "text": [
      "2520\n"
     ]
    }
   ],
   "source": [
    "# Initialize the number of items to choose from\n",
    "n = 7\n",
    "\n",
    "# Initialize the number of items to choose\n",
    "k = 5\n",
    "\n",
    "# Print the number of ways to choose k items from n items\n",
    "print (math.perm(n, k))"
   ]
  },
  {
   "cell_type": "raw",
   "id": "c4d9b625",
   "metadata": {},
   "source": [
    "Definition and Usage\n",
    "The math.pow() method returns the value of x raised to power y.\n",
    "\n",
    "If x is negative and y is not an integer, it returns a ValueError.\n",
    "\n",
    "This method converts both arguments into a float.\n",
    "\n",
    "Tip: If we use math.pow(1.0,x) or math.pow(x,0.0), it will always returns 1.0.\n",
    "\n",
    "Syntax\n",
    "math.pow(x, y)\n",
    "Parameter Values\n",
    "Parameter\tDescription\n",
    "x\tRequired. A number which represents the base\n",
    "y\tRequired. A number which represents the exponent\n",
    "Technical Details\n",
    "Return Value:\tA float value, representing the value of x to the power of y (xy)"
   ]
  },
  {
   "cell_type": "code",
   "execution_count": 35,
   "id": "33834ee8",
   "metadata": {},
   "outputs": [
    {
     "name": "stdout",
     "output_type": "stream",
     "text": [
      "729.0\n"
     ]
    }
   ],
   "source": [
    "#Return the value of 9 raised to the power of 3\n",
    "print(math.pow(9, 3))"
   ]
  },
  {
   "cell_type": "raw",
   "id": "164e6ed3",
   "metadata": {},
   "source": [
    "Definition and Usage\n",
    "The math.prod() method returns the product of the elements from the given iterable.\n",
    "\n",
    "Syntax\n",
    "math.prod(iterable, start)\n",
    "Parameter Values\n",
    "Parameter\tDescription\n",
    "iterable\tRequired. Specifies the elements of the iterable whose product is computed by the function\n",
    "start\tOptional. Specifies the starting value of the product. Default value is 1\n",
    "Technical Details\n",
    "Return Value:\tThe product of the elements from the iterable"
   ]
  },
  {
   "cell_type": "code",
   "execution_count": 36,
   "id": "8fc8e377",
   "metadata": {},
   "outputs": [
    {
     "name": "stdout",
     "output_type": "stream",
     "text": [
      "8\n"
     ]
    }
   ],
   "source": [
    "sequence = (2, 2, 2)\n",
    "\n",
    "#Return the product of the elements\n",
    "print(math.prod(sequence))"
   ]
  },
  {
   "cell_type": "raw",
   "id": "d72f5b1a",
   "metadata": {},
   "source": [
    "Definition and Usage\n",
    "The math.radians() method converts a degree value into radians.\n",
    "\n",
    "Tip: See also math.degrees() to convert an angle from radians to degrees.\n",
    "\n",
    "Syntax\n",
    "math.radians(x)\n",
    "Parameter Values\n",
    "Parameter\tDescription\n",
    "x\tRequired. The degree value to be converted into radians. If the parameter is not a number, it returns a TypeError\n",
    "Technical Details\n",
    "Return Value:\tA float value, representing the radian value of an angle"
   ]
  },
  {
   "cell_type": "code",
   "execution_count": 37,
   "id": "999d6a5d",
   "metadata": {},
   "outputs": [
    {
     "name": "stdout",
     "output_type": "stream",
     "text": [
      "3.141592653589793\n",
      "1.7458528507699278\n",
      "-0.3490658503988659\n"
     ]
    }
   ],
   "source": [
    "# Convert different degrees into radians\n",
    "print(math.radians(180))\n",
    "print(math.radians(100.03))\n",
    "print(math.radians(-20))"
   ]
  },
  {
   "cell_type": "raw",
   "id": "46fdf0e2",
   "metadata": {},
   "source": [
    "Definition and Usage\n",
    "The math.remainder() method returns the remainder of x with respect to y.\n",
    "\n",
    "Syntax\n",
    "math.remainder(x, y)\n",
    "Parameter Values\n",
    "Parameter\tDescription\n",
    "x\tRequired. The number you want to divide.\n",
    "y\tRequired. The number you want to divide with. It must be a non-zero number, or a ValueError occurs.\n",
    "Technical Details\n",
    "Return Value:\tA float value, representing the remainder"
   ]
  },
  {
   "cell_type": "code",
   "execution_count": 38,
   "id": "1ec077bf",
   "metadata": {},
   "outputs": [
    {
     "name": "stdout",
     "output_type": "stream",
     "text": [
      "1.0\n",
      "0.0\n",
      "2.0\n"
     ]
    }
   ],
   "source": [
    "# Return the remainder of x/y\n",
    "print (math.remainder(9, 2))\n",
    "print (math.remainder(9, 3))\n",
    "print (math.remainder(18, 4))"
   ]
  },
  {
   "cell_type": "code",
   "execution_count": 39,
   "id": "18147e02",
   "metadata": {},
   "outputs": [
    {
     "name": "stdout",
     "output_type": "stream",
     "text": [
      "-1.5\n",
      "1.0\n",
      "0.0\n",
      "0.0\n"
     ]
    }
   ],
   "source": [
    "print (math.remainder(23.5, 5))\n",
    "print (math.remainder(23, 5.5))\n",
    "print (math.remainder(12.5, 2.5))\n",
    "print (math.remainder(12, 2))"
   ]
  },
  {
   "cell_type": "raw",
   "id": "234a2cc6",
   "metadata": {},
   "source": [
    "Definition and Usage\n",
    "The math.sin() method returns the sine of a number.\n",
    "\n",
    "Note: To find the sine of degrees, it must first be converted into radians with the math.radians() method (see example below).\n",
    "\n",
    "Syntax\n",
    "math.sin(x)\n",
    "Parameter Values\n",
    "Parameter\tDescription\n",
    "x\tRequired. The number to find the sine of. If the value is not a number, it returns a TypeError\n",
    "Technical Details\n",
    "Return Value:\tA float value, from -1 to 1, representing the sine of an angle"
   ]
  },
  {
   "cell_type": "code",
   "execution_count": 40,
   "id": "e8feab6f",
   "metadata": {},
   "outputs": [
    {
     "name": "stdout",
     "output_type": "stream",
     "text": [
      "0.0\n",
      "-0.9424888019316975\n",
      "-0.5440211108893698\n",
      "1.2246467991473532e-16\n",
      "1.0\n"
     ]
    }
   ],
   "source": [
    "# Return the sine of different values\n",
    "print (math.sin(0.00))\n",
    "print (math.sin(-1.23))\n",
    "print (math.sin(10))\n",
    "print (math.sin(math.pi))\n",
    "print (math.sin(math.pi/2))"
   ]
  },
  {
   "cell_type": "code",
   "execution_count": 41,
   "id": "bd27231a",
   "metadata": {},
   "outputs": [
    {
     "name": "stdout",
     "output_type": "stream",
     "text": [
      "0.49999999999999994\n",
      "1.0\n"
     ]
    }
   ],
   "source": [
    "# Return the sine value of 30 degrees\n",
    "print(math.sin(math.radians(30)))\n",
    "\n",
    "# Return the sine value of 90 degrees\n",
    "print(math.sin(math.radians(90)))"
   ]
  },
  {
   "cell_type": "raw",
   "id": "6a929857",
   "metadata": {},
   "source": [
    "Definition and Usage\n",
    "The math.sinh() method returns the hyperbolic sine of a number.\n",
    "\n",
    "Syntax\n",
    "math.sinh(x)\n",
    "Parameter Values\n",
    "Parameter\tDescription\n",
    "x\tRequired. A number to find the hyperbolic sine of. If the value is not a number, it returns a TypeError\n",
    "Technical Details\n",
    "Return Value:\tA float value, representing the hyperbolic sine of a number"
   ]
  },
  {
   "cell_type": "code",
   "execution_count": 42,
   "id": "ada556d7",
   "metadata": {},
   "outputs": [
    {
     "name": "stdout",
     "output_type": "stream",
     "text": [
      "0.0\n",
      "-7641446994.979367\n",
      "4872401723.124452\n",
      "1.1752011936438014\n",
      "11.548739357257746\n"
     ]
    }
   ],
   "source": [
    "# Return the hyperbolic sine of different values\n",
    "print(math.sinh(0.00))\n",
    "print(math.sinh(-23.45))\n",
    "print(math.sinh(23))\n",
    "print(math.sinh(1.00))\n",
    "print(math.sinh(math.pi))"
   ]
  },
  {
   "cell_type": "raw",
   "id": "950f2a72",
   "metadata": {},
   "source": [
    "Definition and Usage\n",
    "The math.sqrt() method returns the square root of a number.\n",
    "\n",
    "Note: The number must be greater than or equal to 0.\n",
    "\n",
    "Syntax\n",
    "math.sqrt(x)\n",
    "Parameter Values\n",
    "Parameter\tDescription\n",
    "x\tRequired. A number to find the square root of. If the number is less than 0, it returns a ValueError. If the value is not a number, it returns a TypeError\n",
    "Technical Details\n",
    "Return Value:\tA float value, representing the square root of a number"
   ]
  },
  {
   "cell_type": "code",
   "execution_count": 43,
   "id": "0e2e45ea",
   "metadata": {},
   "outputs": [
    {
     "name": "stdout",
     "output_type": "stream",
     "text": [
      "3.0\n",
      "5.0\n",
      "4.0\n"
     ]
    }
   ],
   "source": [
    "# Return the square root of different numbers\n",
    "print (math.sqrt(9))\n",
    "print (math.sqrt(25))\n",
    "print (math.sqrt(16))"
   ]
  },
  {
   "cell_type": "raw",
   "id": "c0b3ccec",
   "metadata": {},
   "source": [
    "Definition and Usage\n",
    "The math.tan() method returns the tangent of a number.\n",
    "\n",
    "Syntax\n",
    "math.tan(x)\n",
    "Parameter Values\n",
    "Parameter\tDescription\n",
    "x\tRequired. A number to find the tangent of. If the value is not a number, it returns a TypeError\n",
    "Technical Details\n",
    "Return Value:\tA float value, representing the tangent of a number"
   ]
  },
  {
   "cell_type": "code",
   "execution_count": 44,
   "id": "6c519067",
   "metadata": {},
   "outputs": [
    {
     "name": "stdout",
     "output_type": "stream",
     "text": [
      "-1.995200412208242\n",
      "1.995200412208242\n",
      "1.6197751905438615\n",
      "0.320040389379563\n"
     ]
    }
   ],
   "source": [
    "# Return the tangent of different numbers\n",
    "print (math.tan(90))\n",
    "print (math.tan(-90))\n",
    "print (math.tan(45))\n",
    "print (math.tan(60))"
   ]
  },
  {
   "cell_type": "raw",
   "id": "9f5dddb4",
   "metadata": {},
   "source": [
    "Definition and Usage\n",
    "The math.tanh() method returns the hyperbolic tangent of a number.\n",
    "\n",
    "Syntax\n",
    "math.tanh(x)\n",
    "Parameter Values\n",
    "Parameter\tDescription\n",
    "x\tRequired. A number to find the hyperbolic tangent of. If the value is not a number, it returns a TypeError\n",
    "Technical Details\n",
    "Return Value:\tA float value, representing the hyperbolic tangent of a number"
   ]
  },
  {
   "cell_type": "code",
   "execution_count": 45,
   "id": "630ece5d",
   "metadata": {},
   "outputs": [
    {
     "name": "stdout",
     "output_type": "stream",
     "text": [
      "0.9999997749296758\n",
      "0.7615941559557649\n",
      "-0.9999917628565104\n"
     ]
    }
   ],
   "source": [
    "# Return the hyperbolic tangent of different numbers\n",
    "print(math.tanh(8))\n",
    "print(math.tanh(1))\n",
    "print(math.tanh(-6.2))"
   ]
  },
  {
   "cell_type": "raw",
   "id": "bc21e948",
   "metadata": {},
   "source": [
    "Definition and Usage\n",
    "The math.trunc() method returns the truncated integer part of a number.\n",
    "\n",
    "Note: This method will NOT round the number up/down to the nearest integer, but simply remove the decimals.\n",
    "\n",
    "Syntax\n",
    "math.trunc(x)\n",
    "Parameter Values\n",
    "Parameter\tDescription\n",
    "x\tRequired. The number you want to remove the decimal part of. If the value is not a number, it returns a TypeError\n",
    "Technical Details\n",
    "Return Value:\tAn int value, representing the truncated integer parts of a number"
   ]
  },
  {
   "cell_type": "code",
   "execution_count": 46,
   "id": "6910886b",
   "metadata": {},
   "outputs": [
    {
     "name": "stdout",
     "output_type": "stream",
     "text": [
      "2\n",
      "8\n",
      "-99\n"
     ]
    }
   ],
   "source": [
    "# Return the truncated integer parts of different numbers\n",
    "print(math.trunc(2.77))\n",
    "print(math.trunc(8.32))\n",
    "print(math.trunc(-99.29))"
   ]
  },
  {
   "cell_type": "markdown",
   "id": "83d7d7ed",
   "metadata": {},
   "source": [
    "# Math Constants"
   ]
  },
  {
   "cell_type": "raw",
   "id": "9270b33b",
   "metadata": {},
   "source": [
    "Definition and Usage\n",
    "The math.e constant returns the Eular's number: 2.718281828459045.\n",
    "\n",
    "Syntax\n",
    "math.e\n",
    "Technical Details\n",
    "Return Value:\tA float value, 2.718281828459045, representing the mathematical constant e"
   ]
  },
  {
   "cell_type": "code",
   "execution_count": 47,
   "id": "75d7db1d",
   "metadata": {},
   "outputs": [
    {
     "name": "stdout",
     "output_type": "stream",
     "text": [
      "2.718281828459045\n"
     ]
    }
   ],
   "source": [
    "# Print the value of E\n",
    "print (math.e)"
   ]
  },
  {
   "cell_type": "raw",
   "id": "1426505b",
   "metadata": {},
   "source": [
    "Definition and Usage\n",
    "The math.inf constant returns a floating-point positive infinity.\n",
    "\n",
    "For negative infinity, use -math.inf.\n",
    "\n",
    "The inf constant is equivalent to float('inf').\n",
    "\n",
    "Syntax\n",
    "math.inf\n",
    "Technical Details\n",
    "Return Value:\tA float value, representing the value of positive infinity"
   ]
  },
  {
   "cell_type": "code",
   "execution_count": 48,
   "id": "990cd604",
   "metadata": {},
   "outputs": [
    {
     "name": "stdout",
     "output_type": "stream",
     "text": [
      "inf\n",
      "-inf\n"
     ]
    }
   ],
   "source": [
    "# Print the positive infinity\n",
    "print (math.inf)\n",
    "\n",
    "# Print the negative infinity\n",
    "print (-math.inf)"
   ]
  },
  {
   "cell_type": "raw",
   "id": "85acd17a",
   "metadata": {},
   "source": [
    "Definition and Usage\n",
    "The math.nan constant returns a floating-point nan (Not a Number) value. This value is not a legal number.\n",
    "\n",
    "The nan constant is equivalent to float('nan').\n",
    "\n",
    "Syntax\n",
    "math.nan\n",
    "Technical Details\n",
    "Return Value:\tA float value, nan (Not a Number)"
   ]
  },
  {
   "cell_type": "code",
   "execution_count": 49,
   "id": "5c2f6eb9",
   "metadata": {},
   "outputs": [
    {
     "name": "stdout",
     "output_type": "stream",
     "text": [
      "nan\n"
     ]
    }
   ],
   "source": [
    "# Print the value of nan\n",
    "print (math.nan)"
   ]
  },
  {
   "cell_type": "raw",
   "id": "7d0e33c6",
   "metadata": {},
   "source": [
    "Definition and Usage\n",
    "The math.pi constant returns the value of PI: 3.141592653589793.\n",
    "\n",
    "Note: Mathematically PI is represented by π.\n",
    "\n",
    "Syntax\n",
    "math.pi\n",
    "Technical Details\n",
    "Return Value:\tA float value, 3.141592653589793, representing the mathematical constant PI"
   ]
  },
  {
   "cell_type": "code",
   "execution_count": 50,
   "id": "054733a4",
   "metadata": {},
   "outputs": [
    {
     "name": "stdout",
     "output_type": "stream",
     "text": [
      "3.141592653589793\n"
     ]
    }
   ],
   "source": [
    "# Print the value of pi\n",
    "print (math.pi)"
   ]
  },
  {
   "cell_type": "raw",
   "id": "d44c0ae0",
   "metadata": {},
   "source": [
    "Definition and Usage\n",
    "The math.tau constant returns the value of tau, which is 6.283185307179586.\n",
    "\n",
    "It is defined as the ratio of the circumference to the radius of a circle. Tau is a circle constant and the value is equivalent to 2π.\n",
    "\n",
    "Note: Mathematically tau is represented by τ.\n",
    "\n",
    "Syntax\n",
    "math.tau\n",
    "Technical Details\n",
    "Return Value:\tA float value, 6.283185307179586, representing the mathematical constant tau"
   ]
  },
  {
   "cell_type": "code",
   "execution_count": 51,
   "id": "fd151dd2",
   "metadata": {},
   "outputs": [
    {
     "name": "stdout",
     "output_type": "stream",
     "text": [
      "6.283185307179586\n"
     ]
    }
   ],
   "source": [
    "# Print the value of tau\n",
    "print (math.tau)"
   ]
  },
  {
   "cell_type": "code",
   "execution_count": null,
   "id": "c1dd4fed",
   "metadata": {},
   "outputs": [],
   "source": []
  },
  {
   "cell_type": "code",
   "execution_count": null,
   "id": "18105366",
   "metadata": {},
   "outputs": [],
   "source": []
  },
  {
   "cell_type": "code",
   "execution_count": null,
   "id": "438b10a7",
   "metadata": {},
   "outputs": [],
   "source": []
  },
  {
   "cell_type": "code",
   "execution_count": null,
   "id": "56c124e4",
   "metadata": {},
   "outputs": [],
   "source": []
  }
 ],
 "metadata": {
  "kernelspec": {
   "display_name": "Python 3 (ipykernel)",
   "language": "python",
   "name": "python3"
  },
  "language_info": {
   "codemirror_mode": {
    "name": "ipython",
    "version": 3
   },
   "file_extension": ".py",
   "mimetype": "text/x-python",
   "name": "python",
   "nbconvert_exporter": "python",
   "pygments_lexer": "ipython3",
   "version": "3.11.0"
  }
 },
 "nbformat": 4,
 "nbformat_minor": 5
}
