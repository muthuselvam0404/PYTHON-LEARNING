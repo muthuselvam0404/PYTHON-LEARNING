{
 "cells": [
  {
   "cell_type": "markdown",
   "id": "01c5a61c",
   "metadata": {},
   "source": [
    "# Python Booleans:\n",
    "\n",
    "Booleans represent one of two values: True or False.\n",
    "\n",
    "Boolean Values:\n",
    "\n",
    "In programming you often need to know if an expression is True or False.\n",
    "\n",
    "You can evaluate any expression in Python, and get one of two answers, True or False.\n",
    "\n",
    "When you compare two values, the expression is evaluated and Python returns the Boolean answer:\n",
    "\n",
    "\n"
   ]
  },
  {
   "cell_type": "code",
   "execution_count": 1,
   "id": "23fee13f",
   "metadata": {},
   "outputs": [
    {
     "name": "stdout",
     "output_type": "stream",
     "text": [
      "True\n",
      "False\n",
      "False\n"
     ]
    }
   ],
   "source": [
    "print(10 > 9)\n",
    "print(10 == 9)\n",
    "print(10 < 9)"
   ]
  },
  {
   "cell_type": "code",
   "execution_count": 2,
   "id": "e1e8b923",
   "metadata": {},
   "outputs": [
    {
     "name": "stdout",
     "output_type": "stream",
     "text": [
      "b is not greater than a\n"
     ]
    }
   ],
   "source": [
    "a = 200\n",
    "b = 33\n",
    "\n",
    "if b > a:\n",
    "  print(\"b is greater than a\")\n",
    "else:\n",
    "  print(\"b is not greater than a\")"
   ]
  },
  {
   "cell_type": "code",
   "execution_count": 3,
   "id": "ff8ab074",
   "metadata": {},
   "outputs": [
    {
     "name": "stdout",
     "output_type": "stream",
     "text": [
      "True\n",
      "True\n"
     ]
    }
   ],
   "source": [
    "print(bool(\"Hello\"))\n",
    "print(bool(15))"
   ]
  },
  {
   "cell_type": "code",
   "execution_count": 4,
   "id": "868d79a9",
   "metadata": {},
   "outputs": [
    {
     "data": {
      "text/plain": [
       "True"
      ]
     },
     "execution_count": 4,
     "metadata": {},
     "output_type": "execute_result"
    }
   ],
   "source": [
    "bool(\"abc\")\n",
    "bool(123)\n",
    "bool([\"apple\", \"cherry\", \"banana\"])"
   ]
  },
  {
   "cell_type": "code",
   "execution_count": 5,
   "id": "f8d88897",
   "metadata": {},
   "outputs": [
    {
     "data": {
      "text/plain": [
       "False"
      ]
     },
     "execution_count": 5,
     "metadata": {},
     "output_type": "execute_result"
    }
   ],
   "source": [
    "bool(False)\n",
    "bool(None)\n",
    "bool(0)\n",
    "bool(\"\")\n",
    "bool(())\n",
    "bool([])\n",
    "bool({})"
   ]
  },
  {
   "cell_type": "code",
   "execution_count": 6,
   "id": "533cde23",
   "metadata": {},
   "outputs": [
    {
     "name": "stdout",
     "output_type": "stream",
     "text": [
      "False\n"
     ]
    }
   ],
   "source": [
    "class myclass():\n",
    "  def __len__(self):\n",
    "    return 0\n",
    "\n",
    "myobj = myclass()\n",
    "print(bool(myobj))"
   ]
  },
  {
   "cell_type": "code",
   "execution_count": 7,
   "id": "3c2b4b61",
   "metadata": {},
   "outputs": [
    {
     "name": "stdout",
     "output_type": "stream",
     "text": [
      "True\n"
     ]
    }
   ],
   "source": [
    "def myFunction() :\n",
    "  return True\n",
    "\n",
    "print(myFunction())"
   ]
  },
  {
   "cell_type": "code",
   "execution_count": 8,
   "id": "c8f0dd46",
   "metadata": {},
   "outputs": [
    {
     "name": "stdout",
     "output_type": "stream",
     "text": [
      "YES!\n"
     ]
    }
   ],
   "source": [
    "def myFunction() :\n",
    "  return True\n",
    "\n",
    "if myFunction():\n",
    "  print(\"YES!\")\n",
    "else:\n",
    "  print(\"NO!\")"
   ]
  },
  {
   "cell_type": "code",
   "execution_count": 9,
   "id": "694d70b4",
   "metadata": {},
   "outputs": [
    {
     "name": "stdout",
     "output_type": "stream",
     "text": [
      "True\n"
     ]
    }
   ],
   "source": [
    "x = 200\n",
    "print(isinstance(x, int))"
   ]
  },
  {
   "cell_type": "markdown",
   "id": "13b333f4",
   "metadata": {},
   "source": [
    "# Python Operators :\n",
    "\n",
    "Operators are used to perform operations on variables and values.\n",
    "\n",
    "In the example below, we use the + operator to add together two values:"
   ]
  },
  {
   "cell_type": "markdown",
   "id": "b304e5a4",
   "metadata": {},
   "source": [
    "# Python divides the operators in the following groups:\n",
    "\n",
    "Arithmetic operators\n",
    "Assignment operators\n",
    "Comparison operators\n",
    "Logical operators\n",
    "Identity operators\n",
    "Membership operators\n",
    "Bitwise operators"
   ]
  },
  {
   "cell_type": "markdown",
   "id": "49e5e933",
   "metadata": {},
   "source": [
    "# Python Arithmetic Operators\n",
    "\n",
    "Arithmetic operators are used with numeric values to perform common mathematical operations.\n",
    "\n",
    "Operator\tName\tExample\t\n",
    "+\tAddition    \tx + y\t\n",
    "-\tSubtraction\t    x - y\t\n",
    "*\tMultiplication\tx * y\t\n",
    "/\tDivision\t    x / y\t\n",
    "%\tModulus     \tx % y\t\n",
    "**\tExponentiation\tx ** y\t\n",
    "//\tFloor division\tx // y\n"
   ]
  },
  {
   "cell_type": "markdown",
   "id": "e3db413d",
   "metadata": {},
   "source": [
    "# Python Assignment Operators:\n",
    "\n",
    "Assignment operators are used to assign values to variables.\n",
    "\n",
    "Operator Example\tSame As\tTry it\n",
    "=    \tx = 5   \tx = 5\t\n",
    "+=\t    x += 3    \tx = x + 3\t\n",
    "-=\t    x -= 3\t    x = x - 3\t\n",
    "*=  \tx *= 3\t   x = x * 3\t\n",
    "/=\t    x /= 3\t   x = x / 3\t\n",
    "%=\t    x %= 3\t   x = x % 3\t\n",
    "//=\t    x //= 3\t   x = x // 3\t\n",
    "**= \tx **= 3\t   x = x ** 3\t\n",
    "&=\t    x &= 3\t   x = x & 3\t\n",
    "|=  \tx |= 3\t   x = x | 3\t\n",
    "^=\t    x ^= 3\t   x = x ^ 3\t\n",
    ">>=\t    x >>= 3\t   x = x >> 3\t\n",
    "<<=\t    x <<= 3    x = x << 3"
   ]
  },
  {
   "cell_type": "markdown",
   "id": "12a70097",
   "metadata": {},
   "source": [
    "# Python Comparison Operators:\n",
    "\n",
    "Comparison operators are used to compare two values\n",
    "\n",
    "Operator\tName\tExample\tTry it\n",
    "==\t       Equal\tx == y\t\n",
    "!=\t   Not equal\tx != y\t\n",
    ">\t   Greater than\tx > y\t\n",
    "<\t   Less than\tx < y\t\n",
    ">=\t Greater than or equal to\tx >= y\t\n",
    "<=\tLess than or equal to\tx <= y"
   ]
  },
  {
   "cell_type": "markdown",
   "id": "7fc08278",
   "metadata": {},
   "source": [
    "# Python Logical Operators:\n",
    "\n",
    "Logical operators are used to combine conditional statements\n",
    "\n",
    "Operator\tDescription\t                                       Example\t\n",
    "and \t  Returns True if both statements are true\t           x < 5 and  x < 10\t\n",
    "or\t      Returns True if one of the statements is true\t       x < 5 or x < 4\t\n",
    "not\t      Reverse the result, returns False if the result is true\tnot(x < 5 and x < 10)"
   ]
  },
  {
   "cell_type": "markdown",
   "id": "31b75ff1",
   "metadata": {},
   "source": [
    "# Python Identity Operators :\n",
    "\n",
    "Identity operators are used to compare the objects, not if they are equal, but if they are actually the same object, with the same memory location.\n",
    "\n",
    "Operator\tDescription                                          \tExample\t\n",
    "is \t      Returns True if both variables are the same object\t  x is y\t\n",
    "is not    Returns True if both variables are not the same object  x is not y\n"
   ]
  },
  {
   "cell_type": "markdown",
   "id": "70165639",
   "metadata": {},
   "source": [
    "# Python Bitwise Operators:\n",
    "\n",
    "Bitwise operators are used to compare (binary) numbers\n",
    "\n",
    "Operator\tName\tDescription\n",
    "& \t        AND     Sets each bit to 1 if both bits are 1\n",
    "|          \tOR\t    Sets each bit to 1 if one of two bits is 1\n",
    "^\t        XOR\t    Sets each bit to 1 if only one of two bits is 1\n",
    "~\t        NOT \tInverts all the bits\n",
    "<<\t  Zero fill left shift\tShift left by pushing zeros in from the right and let the leftmost bits fall off\n",
    ">>\tSigned right shift\tShift right by pushing copies of the leftmost bit in from the left, and let the rightmost bits fall off\n"
   ]
  },
  {
   "cell_type": "markdown",
   "id": "4362df04",
   "metadata": {},
   "source": [
    "# Python Membership Operators:\n",
    "\n",
    "Membership operators are used to test if a sequence is presented in an object:\n",
    "\n",
    "Operator\tDescription                                                                     \tExample\t\n",
    "in      \tReturns True if a sequence with the specified value is present in the object\t    x in y\t\n",
    "not in\t    Returns True if a sequence with the specified value is not present in the object\tx not in y"
   ]
  },
  {
   "cell_type": "code",
   "execution_count": null,
   "id": "663e2682",
   "metadata": {},
   "outputs": [],
   "source": []
  }
 ],
 "metadata": {
  "kernelspec": {
   "display_name": "Python 3 (ipykernel)",
   "language": "python",
   "name": "python3"
  },
  "language_info": {
   "codemirror_mode": {
    "name": "ipython",
    "version": 3
   },
   "file_extension": ".py",
   "mimetype": "text/x-python",
   "name": "python",
   "nbconvert_exporter": "python",
   "pygments_lexer": "ipython3",
   "version": "3.11.0"
  }
 },
 "nbformat": 4,
 "nbformat_minor": 5
}
